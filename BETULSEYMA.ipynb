{
 "cells": [
  {
   "cell_type": "code",
   "execution_count": 1,
   "metadata": {},
   "outputs": [],
   "source": [
    "import nsfg\n",
    "import thinkstats2"
   ]
  },
  {
   "cell_type": "code",
   "execution_count": null,
   "metadata": {},
   "outputs": [],
   "source": [
    "resp=nsfg.ReadFemResp()\n"
   ]
  },
  {
   "cell_type": "code",
   "execution_count": 8,
   "metadata": {},
   "outputs": [
    {
     "data": {
      "text/plain": [
       "0        6\n",
       "1       10\n",
       "2        9\n",
       "3        5\n",
       "4        6\n",
       "5        5\n",
       "6        6\n",
       "7        9\n",
       "8        9\n",
       "9       10\n",
       "10       9\n",
       "11       9\n",
       "12       9\n",
       "13       5\n",
       "14       9\n",
       "15       9\n",
       "16       6\n",
       "17       9\n",
       "18       6\n",
       "19       6\n",
       "20      10\n",
       "21       6\n",
       "22      12\n",
       "23      10\n",
       "24       9\n",
       "25       9\n",
       "26      10\n",
       "27      10\n",
       "28       9\n",
       "29       9\n",
       "        ..\n",
       "7613     7\n",
       "7614    12\n",
       "7615     5\n",
       "7616    10\n",
       "7617    12\n",
       "7618    13\n",
       "7619    13\n",
       "7620     9\n",
       "7621     9\n",
       "7622     7\n",
       "7623     9\n",
       "7624    10\n",
       "7625    10\n",
       "7626    10\n",
       "7627    10\n",
       "7628     7\n",
       "7629    12\n",
       "7630     9\n",
       "7631    10\n",
       "7632     9\n",
       "7633    10\n",
       "7634     9\n",
       "7635     9\n",
       "7636     7\n",
       "7637     9\n",
       "7638    13\n",
       "7639     7\n",
       "7640    11\n",
       "7641     6\n",
       "7642    10\n",
       "Name: hieduc, Length: 7643, dtype: int64"
      ]
     },
     "execution_count": 8,
     "metadata": {},
     "output_type": "execute_result"
    }
   ],
   "source": [
    "hieducvar=resp['hieduc']\n",
    "school= hieducvar[hieducvar <=10]\n",
    "uni=hieducvar[hieducvar >0]\n",
    "hieducvar"
   ]
  },
  {
   "cell_type": "code",
   "execution_count": 10,
   "metadata": {},
   "outputs": [
    {
     "data": {
      "text/plain": [
       "0        6\n",
       "1       10\n",
       "2        9\n",
       "3        5\n",
       "4        6\n",
       "5        5\n",
       "6        6\n",
       "7        9\n",
       "8        9\n",
       "9       10\n",
       "10       9\n",
       "11       9\n",
       "12       9\n",
       "13       5\n",
       "14       9\n",
       "15       9\n",
       "16       6\n",
       "17       9\n",
       "18       6\n",
       "19       6\n",
       "20      10\n",
       "21       6\n",
       "23      10\n",
       "24       9\n",
       "25       9\n",
       "26      10\n",
       "27      10\n",
       "28       9\n",
       "29       9\n",
       "30      10\n",
       "        ..\n",
       "7600    10\n",
       "7602    10\n",
       "7608    10\n",
       "7609     5\n",
       "7610     9\n",
       "7611     5\n",
       "7612     9\n",
       "7613     7\n",
       "7615     5\n",
       "7616    10\n",
       "7620     9\n",
       "7621     9\n",
       "7622     7\n",
       "7623     9\n",
       "7624    10\n",
       "7625    10\n",
       "7626    10\n",
       "7627    10\n",
       "7628     7\n",
       "7630     9\n",
       "7631    10\n",
       "7632     9\n",
       "7633    10\n",
       "7634     9\n",
       "7635     9\n",
       "7636     7\n",
       "7637     9\n",
       "7639     7\n",
       "7641     6\n",
       "7642    10\n",
       "Name: hieduc, Length: 5498, dtype: int64"
      ]
     },
     "execution_count": 10,
     "metadata": {},
     "output_type": "execute_result"
    }
   ],
   "source": [
    "school"
   ]
  },
  {
   "cell_type": "code",
   "execution_count": 20,
   "metadata": {},
   "outputs": [
    {
     "data": {
      "text/plain": [
       "0        6\n",
       "1       10\n",
       "2        9\n",
       "3        5\n",
       "4        6\n",
       "5        5\n",
       "6        6\n",
       "7        9\n",
       "8        9\n",
       "9       10\n",
       "10       9\n",
       "11       9\n",
       "12       9\n",
       "13       5\n",
       "14       9\n",
       "15       9\n",
       "16       6\n",
       "17       9\n",
       "18       6\n",
       "19       6\n",
       "20      10\n",
       "21       6\n",
       "22      12\n",
       "23      10\n",
       "24       9\n",
       "25       9\n",
       "26      10\n",
       "27      10\n",
       "28       9\n",
       "29       9\n",
       "        ..\n",
       "7613     7\n",
       "7614    12\n",
       "7615     5\n",
       "7616    10\n",
       "7617    12\n",
       "7618    13\n",
       "7619    13\n",
       "7620     9\n",
       "7621     9\n",
       "7622     7\n",
       "7623     9\n",
       "7624    10\n",
       "7625    10\n",
       "7626    10\n",
       "7627    10\n",
       "7628     7\n",
       "7629    12\n",
       "7630     9\n",
       "7631    10\n",
       "7632     9\n",
       "7633    10\n",
       "7634     9\n",
       "7635     9\n",
       "7636     7\n",
       "7637     9\n",
       "7638    13\n",
       "7639     7\n",
       "7640    11\n",
       "7641     6\n",
       "7642    10\n",
       "Name: hieduc, Length: 7643, dtype: int64"
      ]
     },
     "execution_count": 20,
     "metadata": {},
     "output_type": "execute_result"
    }
   ],
   "source": [
    "uni"
   ]
  },
  {
   "cell_type": "code",
   "execution_count": 27,
   "metadata": {},
   "outputs": [
    {
     "data": {
      "text/plain": [
       "0        2\n",
       "1        4\n",
       "2        4\n",
       "3        3\n",
       "4        3\n",
       "5        4\n",
       "6        4\n",
       "7        3\n",
       "8        3\n",
       "9        3\n",
       "10       2\n",
       "11       4\n",
       "12       1\n",
       "13       4\n",
       "14       2\n",
       "15       3\n",
       "16       3\n",
       "17       5\n",
       "18       1\n",
       "19       3\n",
       "20       4\n",
       "21       3\n",
       "22       3\n",
       "23       2\n",
       "24       5\n",
       "25       4\n",
       "26       2\n",
       "27       3\n",
       "28       3\n",
       "29       1\n",
       "        ..\n",
       "7613     3\n",
       "7614     3\n",
       "7615     3\n",
       "7616     3\n",
       "7617     4\n",
       "7618     3\n",
       "7619     3\n",
       "7620     3\n",
       "7621     4\n",
       "7622     4\n",
       "7623     3\n",
       "7624     4\n",
       "7625     5\n",
       "7626     2\n",
       "7627     3\n",
       "7628     5\n",
       "7629     4\n",
       "7630     2\n",
       "7631     1\n",
       "7632     2\n",
       "7633     3\n",
       "7634     1\n",
       "7635     2\n",
       "7636     1\n",
       "7637    96\n",
       "7638     3\n",
       "7639     4\n",
       "7640     3\n",
       "7641     3\n",
       "7642     2\n",
       "Name: agemomb1, Length: 7643, dtype: int64"
      ]
     },
     "execution_count": 27,
     "metadata": {},
     "output_type": "execute_result"
    }
   ],
   "source": [
    "birthday = resp['agemomb1']\n",
    "birthdaymax=max(birthday)\n",
    "birthdaymin=min(birthday)\n",
    "birthdaymean=birthday.mean()\n",
    "birthdayvar=birthday.var()\n",
    "birthdaystd=birthday.std()\n",
    "birthday"
   ]
  },
  {
   "cell_type": "code",
   "execution_count": 28,
   "metadata": {},
   "outputs": [
    {
     "data": {
      "text/plain": [
       "116.90559333798633"
      ]
     },
     "execution_count": 28,
     "metadata": {},
     "output_type": "execute_result"
    }
   ],
   "source": [
    "birthdayvar"
   ]
  },
  {
   "cell_type": "code",
   "execution_count": 33,
   "metadata": {},
   "outputs": [
    {
     "data": {
      "text/plain": [
       "10.812288996229537"
      ]
     },
     "execution_count": 33,
     "metadata": {},
     "output_type": "execute_result"
    }
   ],
   "source": [
    "birthdaystd"
   ]
  },
  {
   "cell_type": "code",
   "execution_count": 34,
   "metadata": {},
   "outputs": [
    {
     "data": {
      "text/plain": [
       "3.982075101399974"
      ]
     },
     "execution_count": 34,
     "metadata": {},
     "output_type": "execute_result"
    }
   ],
   "source": [
    "birthdaymean"
   ]
  },
  {
   "cell_type": "code",
   "execution_count": 39,
   "metadata": {},
   "outputs": [
    {
     "data": {
      "text/plain": [
       "96L"
      ]
     },
     "execution_count": 39,
     "metadata": {},
     "output_type": "execute_result"
    }
   ],
   "source": [
    "birthdaymax"
   ]
  },
  {
   "cell_type": "code",
   "execution_count": 41,
   "metadata": {},
   "outputs": [
    {
     "data": {
      "text/plain": [
       "1L"
      ]
     },
     "execution_count": 41,
     "metadata": {},
     "output_type": "execute_result"
    }
   ],
   "source": [
    "birthdaymin"
   ]
  },
  {
   "cell_type": "code",
   "execution_count": null,
   "metadata": {},
   "outputs": [],
   "source": []
  },
  {
   "cell_type": "code",
   "execution_count": null,
   "metadata": {},
   "outputs": [],
   "source": []
  }
 ],
 "metadata": {
  "kernelspec": {
   "display_name": "Python 2",
   "language": "python",
   "name": "python2"
  },
  "language_info": {
   "codemirror_mode": {
    "name": "ipython",
    "version": 2
   },
   "file_extension": ".py",
   "mimetype": "text/x-python",
   "name": "python",
   "nbconvert_exporter": "python",
   "pygments_lexer": "ipython2",
   "version": "2.7.14"
  }
 },
 "nbformat": 4,
 "nbformat_minor": 2
}
